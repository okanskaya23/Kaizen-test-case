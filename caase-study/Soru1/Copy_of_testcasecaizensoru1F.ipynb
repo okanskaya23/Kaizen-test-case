{
  "nbformat": 4,
  "nbformat_minor": 0,
  "metadata": {
    "colab": {
      "name": "Copy of testcasecaizensoru1F.ipynb",
      "private_outputs": true,
      "provenance": [],
      "collapsed_sections": [],
      "machine_shape": "hm"
    },
    "kernelspec": {
      "name": "python3",
      "display_name": "Python 3"
    },
    "language_info": {
      "name": "python"
    },
    "accelerator": "TPU"
  },
  "cells": [
    {
      "cell_type": "code",
      "metadata": {
        "id": "pFyMi-mTcH2S"
      },
      "source": [
        " import json\n",
        " !pip install pycrypto\n",
        " from base64 import b64encode\n",
        " !pip install pycryptodomex\n",
        " from Crypto.Random import get_random_bytes\n",
        " from Cryptodome.Cipher import AES\n",
        " import itertools\n",
        "import random\n",
        "import math \n",
        "import time\n",
        "import sympy\n",
        "#algoritmanın genel mantığı kullanılabilecek tüm string değerleri arasından o çalışma seansı için belirlenmiş key ile enkripte edip enkripte edilmiş halde \n",
        "#patternlar aramaktır uygun bulunan stringler set data typında return edilir ve kontrol etmek için de key tekrar uygulanır AES_SİV algoritması Aynı key ve string değeri ile bire bir ve tersi olan bi fonksiyon olarak çalışır \n",
        "#Aessiv sayesinde kullanılan pattern tersine mühendislik ile kırlmasını çok zorlaştırır brute force koruması içinde valid pattern iyi seçilmelidir \n",
        "#aşağıda belirtilen değerler için brut forcun çalışma olasılığı 0.00026087612114774017\n",
        "# key = b'7\\xb2\\xb17\\xe3\\xe7\\xd8\\xfay\\xe51\\xee\\x18\\x0bn\\xc5\\x8b^\\x88 \\xcc,\\xe3\\x8b\\xf9(\\xe8\\x01d\\x9a\\x9c\\xa8'\n",
        "# nonce = b'p\\xfb\\xda#\\x86\\x88\\xaf\\xce;\\t\\x95\\xa0\"\\xd4PY'\n",
        "#Kodların üretilme süresi uzun ancak üretilen kodlara bakıp valid kod çıkarılması çok düşük olasılık"
      ],
      "execution_count": null,
      "outputs": []
    },
    {
      "cell_type": "code",
      "metadata": {
        "id": "R0qbNOMLnyHH"
      },
      "source": [
        "key = get_random_bytes(16 * 2)\n",
        "nonce = get_random_bytes(16)\n",
        "header = b\"header\"\n",
        "chars = \"ACDEFGHKLMNPRTXYZ234579234579\"\n",
        "chars = list(chars)\n",
        "random.shuffle(chars)\n",
        "chars = \"\".join(chars)\n"
      ],
      "execution_count": null,
      "outputs": []
    },
    {
      "cell_type": "code",
      "metadata": {
        "id": "_OZJjhGKiK-q"
      },
      "source": [
        "def encrypt(ip):\n",
        "  data = str.encode(ip)\n",
        "  cipher = AES.new(key, AES.MODE_SIV, nonce=nonce)                                             \n",
        "  cipher.update(header)\n",
        "  ciphertext, tag = cipher.encrypt_and_digest(data)\n",
        "  return str(ciphertext)\n",
        "\n",
        "def ChekCode(const):\n",
        "  if(len(const) != 8):\n",
        "    return False\n",
        "  sum=0\n",
        "  av = 0\n",
        "  t = const\n",
        "  m = encrypt(t)\n",
        "  m = str(m)\n",
        "  l = len(m)\n",
        "  for i in m:\n",
        "    av += ord(i)\n",
        "    if(i in [\"1\",\"2\",\"3\",\"4\",\"5\",\"6\",\"7\",\"8\",\"9\"]):\n",
        "      sum+=int(i)\n",
        "  \n",
        "  if((av+sum!=2)and(sympy.isprime(av) and sympy.isprime(sum)  and m.count(\"a\") > 3) ):\n",
        "    return True\n",
        "  else:\n",
        "    return False\n",
        "\n",
        "\n",
        "def GenerateCodes():\n",
        "  all = 0\n",
        "  list_of_codes = []\n",
        "  list_of_codes =set(list_of_codes)\n",
        "  \n",
        "  for i in itertools.combinations(chars, 8):\n",
        "    counter = len(list_of_codes)\n",
        "    all +=1\n",
        "    txt = str(\"\".join(i))\n",
        "    #if(all%100000 == 0):\n",
        "      #print(counter / all)\n",
        "    if(counter==1000):\n",
        "      print(counter / all)\n",
        "      return list_of_codes\n",
        "    if(ChekCode(txt)):\n",
        "      counter += 1\n",
        "      list_of_codes.add(\"\".join(i))\n",
        "  return list_of_codes\n",
        "\n",
        "\n",
        "\n",
        "\n"
      ],
      "execution_count": null,
      "outputs": []
    },
    {
      "cell_type": "code",
      "metadata": {
        "id": "P07htCaQn_30"
      },
      "source": [
        "a=GenerateCodes()"
      ],
      "execution_count": null,
      "outputs": []
    },
    {
      "cell_type": "code",
      "metadata": {
        "id": "bjQrI0Ydp_6Z"
      },
      "source": [
        "zz=0\n",
        "for i in a:\n",
        "  if(ChekCode(i)):\n",
        "    zz+=1\n",
        "if(zz==len(a)):\n",
        "  print(\"worksss\")"
      ],
      "execution_count": null,
      "outputs": []
    },
    {
      "cell_type": "code",
      "metadata": {
        "id": "cYz6tIhDbyuV"
      },
      "source": [
        "print(a)"
      ],
      "execution_count": null,
      "outputs": []
    },
    {
      "cell_type": "code",
      "metadata": {
        "id": "vu3KEH-s_T24"
      },
      "source": [
        "f = open(\"genarated.txt\", \"w\")\n",
        "for i in a:\n",
        "  f.write(i+\"\\n\")\n",
        "f.close()"
      ],
      "execution_count": null,
      "outputs": []
    },
    {
      "cell_type": "code",
      "metadata": {
        "id": "vuNSZ1BmAWFq"
      },
      "source": [
        ""
      ],
      "execution_count": null,
      "outputs": []
    }
  ]
}